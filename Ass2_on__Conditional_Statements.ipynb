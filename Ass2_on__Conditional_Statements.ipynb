{
  "nbformat": 4,
  "nbformat_minor": 0,
  "metadata": {
    "colab": {
      "provenance": []
    },
    "kernelspec": {
      "name": "python3",
      "display_name": "Python 3"
    },
    "language_info": {
      "name": "python"
    }
  },
  "cells": [
    {
      "cell_type": "markdown",
      "source": [
        "Take three numbers 'x', 'y' and 'z' as input from the user and check which number is greater\n"
      ],
      "metadata": {
        "id": "AcR_27Hh5QTe"
      }
    },
    {
      "cell_type": "code",
      "source": [
        "x=int(input(\"Enter a num\"))\n",
        "y=int(input(\"Enter a num\"))\n",
        "z=int(input(\"enter a num\"))\n",
        "\n",
        "if x>=y and x>=z:\n",
        "  print(\"x is greater than y and z\")\n",
        "\n",
        "elif y>=x and y>=z:\n",
        "  print(\"y is greater than x and z\")\n",
        "\n",
        "else:\n",
        "  print(\"z is greater than x and z\")"
      ],
      "metadata": {
        "id": "ZqmjTxbD5QG4",
        "colab": {
          "base_uri": "https://localhost:8080/"
        },
        "outputId": "4a35322e-aa7d-42f0-d212-b3f7fc1564b4"
      },
      "execution_count": null,
      "outputs": [
        {
          "output_type": "stream",
          "name": "stdout",
          "text": [
            "Enter a num4\n",
            "Enter a num5\n",
            "enter a num1\n",
            "y is greater than x and z\n"
          ]
        }
      ]
    },
    {
      "cell_type": "markdown",
      "source": [
        "Take an alphabet as input from the user and check if the alphabet is a vowel, consonant or an exception\n",
        "\n",
        "\n",
        "Vowel - 'a','e','i','o','u'\n",
        "\n",
        "Exception - 'h', 'y'\n",
        "\n",
        "Consonant - rest other alphabets"
      ],
      "metadata": {
        "id": "QgkCsQlx4c5Y"
      }
    },
    {
      "cell_type": "code",
      "source": [
        "alphabet=input(\"Enter a alphabet\")\n",
        "\n",
        "if alphabet in('a','e','i','o','u'):\n",
        "  print(\"Entered alphabet is a vowel\")\n",
        "\n",
        "elif alphabet in('h','y'):\n",
        "  print(\"Entered alphabets is an exception\")\n",
        "\n",
        "else:\n",
        "  print(\"Entered alphabet is a consonant\")"
      ],
      "metadata": {
        "id": "mTRgMPbt4dTk",
        "colab": {
          "base_uri": "https://localhost:8080/"
        },
        "outputId": "c90ed491-f999-4893-b9dd-537c994cbe86"
      },
      "execution_count": null,
      "outputs": [
        {
          "output_type": "stream",
          "name": "stdout",
          "text": [
            "Enter a alphabetz\n",
            "Entered alphabet is a consonant\n"
          ]
        }
      ]
    },
    {
      "cell_type": "markdown",
      "source": [
        "Write a program to check whether a number given by a user is divisible by 2 and 3 both"
      ],
      "metadata": {
        "id": "5TqcIsuG4N4x"
      }
    },
    {
      "cell_type": "code",
      "source": [
        "num=int(input(\"Enter a number\"))\n",
        "\n",
        "if num%2==0:\n",
        "  print(\"Number is divisible by 2\")\n",
        "\n",
        "else:\n",
        "   if num%3==0:\n",
        "    print(\"Number is divisible by 3\")\n",
        "\n",
        "   else:\n",
        "     print(\"number is non divisible by 2 and 3 both\")\n"
      ],
      "metadata": {
        "id": "1TobEmuY4NkT",
        "colab": {
          "base_uri": "https://localhost:8080/"
        },
        "outputId": "0c8c3f17-6dba-4555-a3a7-9b5a965e27a5"
      },
      "execution_count": null,
      "outputs": [
        {
          "output_type": "stream",
          "name": "stdout",
          "text": [
            "Enter a number10\n",
            "Number is divisible by 2\n"
          ]
        }
      ]
    },
    {
      "cell_type": "markdown",
      "source": [
        "Write a program to accept the cost price  of a bike as input and display the road tax to be paid according to the following crieteria :-\n",
        "\n",
        "Cost price - 100000 Tax - 15%\n",
        "\n",
        "Cost price - between 50000 to 100000 Tax - 10%\n",
        "\n",
        "Cost price - less than 50000 Tax - 5%"
      ],
      "metadata": {
        "id": "Vl0l7eM93o-k"
      }
    },
    {
      "cell_type": "code",
      "source": [
        "Price=int(input(\"Enter the on road price of a bike\"))\n",
        "\n",
        "if Price<50000:\n",
        "  print(\"Road tax to be paid\",0.05*Price)\n",
        "\n",
        "elif 100000>=Price>=50000:\n",
        "  print(\"Road tax to be paid\",0.10*Price)\n",
        "\n",
        "else:\n",
        "  print(\"Road tax to be paid \",0.15*Price)\n"
      ],
      "metadata": {
        "id": "TdHw-M2Z3lkL",
        "colab": {
          "base_uri": "https://localhost:8080/"
        },
        "outputId": "399a4483-6099-4a54-d99f-38e772f81afb"
      },
      "execution_count": 5,
      "outputs": [
        {
          "output_type": "stream",
          "name": "stdout",
          "text": [
            "Enter the on road price of a bike45000\n",
            "Road tax to be paid 2250.0\n"
          ]
        }
      ]
    },
    {
      "cell_type": "markdown",
      "source": [
        "Write a program to calculate the electricity bill by accepting the number of units consumed by the user as input. Use the following price chart for reference :-\n",
        "\n",
        "Price of first 100 units - no charge\n",
        "\n",
        "Price of next 100 units - Rs 5/- per unit\n",
        "\n",
        "After 200 units - Rs 10/- per unit"
      ],
      "metadata": {
        "id": "4qwB-dyV2vdv"
      }
    },
    {
      "cell_type": "code",
      "execution_count": 14,
      "metadata": {
        "id": "9CRK7oBa2rjP",
        "colab": {
          "base_uri": "https://localhost:8080/"
        },
        "outputId": "8ec1b25a-c9b6-422d-e138-8859cdda553b"
      },
      "outputs": [
        {
          "output_type": "stream",
          "name": "stdout",
          "text": [
            "Enter the electricity units consumed99\n",
            "Free electricity no need to pay\n"
          ]
        }
      ],
      "source": [
        "unit=int(input(\"Enter the electricity units consumed\"))\n",
        "\n",
        "Rs=0\n",
        "if unit<=100:\n",
        "  print(\"Free electricity no need to pay\")\n",
        "\n",
        "elif 200>=unit>100:\n",
        "  Rs=(unit-100)*5\n",
        "  print(\"Electricity bill amount in RS is\")\n",
        "\n",
        "else:\n",
        "  Rs=500+(unit-200)*10\n",
        "  print(\"Electricity bill amount in RS is\")"
      ]
    },
    {
      "cell_type": "code",
      "source": [],
      "metadata": {
        "id": "dvBF6k8mzTHV"
      },
      "execution_count": 14,
      "outputs": []
    }
  ]
}