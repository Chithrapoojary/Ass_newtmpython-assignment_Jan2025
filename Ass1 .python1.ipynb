{
  "nbformat": 4,
  "nbformat_minor": 0,
  "metadata": {
    "colab": {
      "provenance": []
    },
    "kernelspec": {
      "name": "python3",
      "display_name": "Python 3"
    },
    "language_info": {
      "name": "python"
    }
  },
  "cells": [
    {
      "cell_type": "markdown",
      "source": [
        "What is the result of the following expression?"
      ],
      "metadata": {
        "id": "MzAFHjApt3kn"
      }
    },
    {
      "cell_type": "code",
      "execution_count": null,
      "metadata": {
        "colab": {
          "base_uri": "https://localhost:8080/"
        },
        "id": "RUZ02Btgt0N0",
        "outputId": "eb4d54df-09a7-4c11-82d9-7989dc78e6ee"
      },
      "outputs": [
        {
          "output_type": "execute_result",
          "data": {
            "text/plain": [
              "11"
            ]
          },
          "metadata": {},
          "execution_count": 1
        }
      ],
      "source": [
        "5+3*2"
      ]
    },
    {
      "cell_type": "markdown",
      "source": [
        "What is the output of the following code?"
      ],
      "metadata": {
        "id": "s66WRZDluFCf"
      }
    },
    {
      "cell_type": "code",
      "source": [
        "x=5\n",
        "y=10\n",
        "x+=y\n",
        "print(x)"
      ],
      "metadata": {
        "colab": {
          "base_uri": "https://localhost:8080/"
        },
        "id": "5YrEWUWtuEUD",
        "outputId": "0ef733be-93bf-43e2-be7d-848ef39e4d9c"
      },
      "execution_count": null,
      "outputs": [
        {
          "output_type": "stream",
          "name": "stdout",
          "text": [
            "15\n"
          ]
        }
      ]
    },
    {
      "cell_type": "markdown",
      "source": [
        "Evaluate the following boolean expression:"
      ],
      "metadata": {
        "id": "l3CEgVlmuaeI"
      }
    },
    {
      "cell_type": "code",
      "source": [
        "(10>5) and (not(5>10))"
      ],
      "metadata": {
        "colab": {
          "base_uri": "https://localhost:8080/"
        },
        "id": "sB-ZydI4uYQE",
        "outputId": "0c9f51ae-ae48-49cb-d6bc-27d3a4fb3310"
      },
      "execution_count": null,
      "outputs": [
        {
          "output_type": "execute_result",
          "data": {
            "text/plain": [
              "True"
            ]
          },
          "metadata": {},
          "execution_count": 3
        }
      ]
    },
    {
      "cell_type": "markdown",
      "source": [
        "What is the result of following division?"
      ],
      "metadata": {
        "id": "GqXIhi1suu4h"
      }
    },
    {
      "cell_type": "code",
      "source": [
        "7/2\n",
        "print(7%2)"
      ],
      "metadata": {
        "colab": {
          "base_uri": "https://localhost:8080/"
        },
        "id": "OJrrypZOuocF",
        "outputId": "d7098803-19e0-409a-ed21-89d240eda394"
      },
      "execution_count": 22,
      "outputs": [
        {
          "output_type": "stream",
          "name": "stdout",
          "text": [
            "1\n"
          ]
        }
      ]
    },
    {
      "cell_type": "markdown",
      "source": [
        "What will be the value and type of 'x' after the following operation?"
      ],
      "metadata": {
        "id": "xRkM6xPSu8t9"
      }
    },
    {
      "cell_type": "code",
      "source": [
        "x=4//2\n",
        "print(x)"
      ],
      "metadata": {
        "id": "VDBqhFDVu31j",
        "colab": {
          "base_uri": "https://localhost:8080/"
        },
        "outputId": "8fc828fd-9c0a-4aba-e3a4-7c48c3f206ff"
      },
      "execution_count": 23,
      "outputs": [
        {
          "output_type": "stream",
          "name": "stdout",
          "text": [
            "2\n"
          ]
        }
      ]
    },
    {
      "cell_type": "code",
      "source": [
        "type(x)"
      ],
      "metadata": {
        "colab": {
          "base_uri": "https://localhost:8080/"
        },
        "id": "J3ow-XhYE1h_",
        "outputId": "0d683b18-d73b-4ae1-b23a-1453b4dbbfc6"
      },
      "execution_count": 24,
      "outputs": [
        {
          "output_type": "execute_result",
          "data": {
            "text/plain": [
              "int"
            ]
          },
          "metadata": {},
          "execution_count": 24
        }
      ]
    },
    {
      "cell_type": "markdown",
      "source": [
        "What is the output of following code"
      ],
      "metadata": {
        "id": "JrmKnbcmvMtU"
      }
    },
    {
      "cell_type": "code",
      "source": [
        "a=[1,2,3]\n",
        "b=a\n",
        "b[0]=4\n",
        "print(a)"
      ],
      "metadata": {
        "colab": {
          "base_uri": "https://localhost:8080/"
        },
        "id": "WZkyTBRgvIvG",
        "outputId": "b11785be-cae1-4a55-c654-3dc6d45dd047"
      },
      "execution_count": null,
      "outputs": [
        {
          "output_type": "stream",
          "name": "stdout",
          "text": [
            "[4, 2, 3]\n"
          ]
        }
      ]
    },
    {
      "cell_type": "markdown",
      "source": [
        "What does the following slice operation return?"
      ],
      "metadata": {
        "id": "fByyFLdjvgcl"
      }
    },
    {
      "cell_type": "code",
      "source": [
        "s='hello'\n",
        "print(s[1:4])"
      ],
      "metadata": {
        "colab": {
          "base_uri": "https://localhost:8080/"
        },
        "id": "9e54jo-BvZ5G",
        "outputId": "1f7f7471-ea85-43d8-d050-1bc46e6fb8f6"
      },
      "execution_count": null,
      "outputs": [
        {
          "output_type": "stream",
          "name": "stdout",
          "text": [
            "ell\n"
          ]
        }
      ]
    },
    {
      "cell_type": "markdown",
      "source": [
        "What will be the value of 'result'?"
      ],
      "metadata": {
        "id": "AHJG3KM4v4wP"
      }
    },
    {
      "cell_type": "code",
      "source": [
        "result=2**3**2\n",
        "\n",
        "print(result)"
      ],
      "metadata": {
        "id": "PSli2dIhvwKT",
        "colab": {
          "base_uri": "https://localhost:8080/"
        },
        "outputId": "a12d2d52-2a12-49ce-a4ee-d0850cd1e13d"
      },
      "execution_count": 28,
      "outputs": [
        {
          "output_type": "stream",
          "name": "stdout",
          "text": [
            "512\n"
          ]
        }
      ]
    },
    {
      "cell_type": "markdown",
      "source": [
        "Given the list a=[1,2,3,4,5] , what will be the result of a[ : :-1]?"
      ],
      "metadata": {
        "id": "vwLp0HxhwOQM"
      }
    },
    {
      "cell_type": "code",
      "source": [
        "a=[1,2,3,4,5]\n",
        "a[: :-1]"
      ],
      "metadata": {
        "id": "wbu5LbZewD_I",
        "colab": {
          "base_uri": "https://localhost:8080/"
        },
        "outputId": "84cc29e1-eb0c-4d03-d862-5aa1da419fe7"
      },
      "execution_count": 29,
      "outputs": [
        {
          "output_type": "execute_result",
          "data": {
            "text/plain": [
              "[5, 4, 3, 2, 1]"
            ]
          },
          "metadata": {},
          "execution_count": 29
        }
      ]
    },
    {
      "cell_type": "code",
      "source": [
        "a[:-1]"
      ],
      "metadata": {
        "colab": {
          "base_uri": "https://localhost:8080/"
        },
        "id": "469k2DMsF0eq",
        "outputId": "c659aeb0-5ec9-4f75-ef60-d08d13226ce4"
      },
      "execution_count": 30,
      "outputs": [
        {
          "output_type": "execute_result",
          "data": {
            "text/plain": [
              "[1, 2, 3, 4]"
            ]
          },
          "metadata": {},
          "execution_count": 30
        }
      ]
    },
    {
      "cell_type": "markdown",
      "source": [
        "Evaluate the following expression:"
      ],
      "metadata": {
        "id": "qJyvkUUfwstE"
      }
    },
    {
      "cell_type": "code",
      "source": [
        "10%3\n",
        "a=10%3\n",
        "print(a)"
      ],
      "metadata": {
        "colab": {
          "base_uri": "https://localhost:8080/"
        },
        "id": "3jf1IbHHwzsb",
        "outputId": "8e3c5dbe-b210-459b-ba4e-de888d2e778f"
      },
      "execution_count": 31,
      "outputs": [
        {
          "output_type": "stream",
          "name": "stdout",
          "text": [
            "1\n"
          ]
        }
      ]
    },
    {
      "cell_type": "markdown",
      "source": [
        "What is the result of the following code ?"
      ],
      "metadata": {
        "id": "uu1aCNqSxAIe"
      }
    },
    {
      "cell_type": "code",
      "source": [
        "x=[1,2,3]\n",
        "y=[1,2,3]\n",
        "print(x==y)\n",
        "print(x is y)"
      ],
      "metadata": {
        "colab": {
          "base_uri": "https://localhost:8080/"
        },
        "id": "s9hGyYnPw1dq",
        "outputId": "5080659f-8a36-4029-efc7-bcbe0d430d1c"
      },
      "execution_count": null,
      "outputs": [
        {
          "output_type": "stream",
          "name": "stdout",
          "text": [
            "True\n",
            "False\n"
          ]
        }
      ]
    },
    {
      "cell_type": "markdown",
      "source": [
        "what is the output of the following code ?"
      ],
      "metadata": {
        "id": "Vs4sZY1QxXfM"
      }
    },
    {
      "cell_type": "code",
      "source": [
        "x=\"Python\"\n",
        "y=x*3\n",
        "print(y)"
      ],
      "metadata": {
        "colab": {
          "base_uri": "https://localhost:8080/"
        },
        "id": "RAJFRj6DxO7A",
        "outputId": "8da85bb3-4b6e-4bda-c2a2-4b797d212aa3"
      },
      "execution_count": null,
      "outputs": [
        {
          "output_type": "stream",
          "name": "stdout",
          "text": [
            "PythonPythonPython\n"
          ]
        }
      ]
    },
    {
      "cell_type": "markdown",
      "source": [
        "What is th type and value of 'x' after the following operation?"
      ],
      "metadata": {
        "id": "vOvPaDs3xWii"
      }
    },
    {
      "cell_type": "code",
      "source": [
        "x=True+1\n",
        "print(x)"
      ],
      "metadata": {
        "id": "RLrWR0Oky0IX",
        "colab": {
          "base_uri": "https://localhost:8080/"
        },
        "outputId": "d5e578ac-2e8e-49cf-846d-8f232c0e85d9"
      },
      "execution_count": 32,
      "outputs": [
        {
          "output_type": "stream",
          "name": "stdout",
          "text": [
            "2\n"
          ]
        }
      ]
    },
    {
      "cell_type": "markdown",
      "source": [
        "What will be the output of the following comparison?"
      ],
      "metadata": {
        "id": "IRVSeDSczDwB"
      }
    },
    {
      "cell_type": "code",
      "source": [
        "print('abc'<'abd')"
      ],
      "metadata": {
        "colab": {
          "base_uri": "https://localhost:8080/"
        },
        "id": "goOFe-ucy3X_",
        "outputId": "2f13f863-0263-4377-d27f-60096273aadf"
      },
      "execution_count": null,
      "outputs": [
        {
          "output_type": "stream",
          "name": "stdout",
          "text": [
            "True\n"
          ]
        }
      ]
    },
    {
      "cell_type": "markdown",
      "source": [
        "What is the result of the following code?"
      ],
      "metadata": {
        "id": "eiA8HqIDzETu"
      }
    },
    {
      "cell_type": "code",
      "source": [
        "d={'a':1,'b':2}\n",
        "d['c']=3\n",
        "print(d)"
      ],
      "metadata": {
        "colab": {
          "base_uri": "https://localhost:8080/"
        },
        "id": "VMiawm7o0mBP",
        "outputId": "cc5e9907-ed5d-4d4f-aff1-1a4be12f78ec"
      },
      "execution_count": null,
      "outputs": [
        {
          "output_type": "stream",
          "name": "stdout",
          "text": [
            "{'a': 1, 'b': 2, 'c': 3}\n"
          ]
        }
      ]
    },
    {
      "cell_type": "markdown",
      "source": [
        "What will be the value of 'a' after the following operation?"
      ],
      "metadata": {
        "id": "Dp60Qs0e0--J"
      }
    },
    {
      "cell_type": "code",
      "source": [
        "a=\"123\"\n",
        "a+=\"456\"\n",
        "print(a)"
      ],
      "metadata": {
        "id": "KcYu3sn80zEF",
        "colab": {
          "base_uri": "https://localhost:8080/"
        },
        "outputId": "182b4d23-f610-4a32-8ff7-b01eabf33cfe"
      },
      "execution_count": 33,
      "outputs": [
        {
          "output_type": "stream",
          "name": "stdout",
          "text": [
            "123456\n"
          ]
        }
      ]
    },
    {
      "cell_type": "markdown",
      "source": [
        "What is the output of the following code?"
      ],
      "metadata": {
        "id": "cRQPO3al1Yd6"
      }
    },
    {
      "cell_type": "code",
      "source": [
        "a=[1,2,3]\n",
        "b=a[:]\n",
        "b.append(4)\n",
        "print(a)\n",
        "print(b)"
      ],
      "metadata": {
        "colab": {
          "base_uri": "https://localhost:8080/"
        },
        "id": "xl1amvTf1W5y",
        "outputId": "6a302ca9-b90b-4be5-f166-a77e4a3f1173"
      },
      "execution_count": null,
      "outputs": [
        {
          "output_type": "stream",
          "name": "stdout",
          "text": [
            "[1, 2, 3]\n",
            "[1, 2, 3, 4]\n"
          ]
        }
      ]
    },
    {
      "cell_type": "markdown",
      "source": [
        "Evaluate the following expression:"
      ],
      "metadata": {
        "id": "pBMjBEQe2BzJ"
      }
    },
    {
      "cell_type": "code",
      "source": [
        "a=3*(2+4)**2\n",
        "print(a)"
      ],
      "metadata": {
        "colab": {
          "base_uri": "https://localhost:8080/"
        },
        "id": "gWmdk09g184-",
        "outputId": "2eb91dac-7d38-417b-b953-01163a2c2406"
      },
      "execution_count": 34,
      "outputs": [
        {
          "output_type": "stream",
          "name": "stdout",
          "text": [
            "108\n"
          ]
        }
      ]
    },
    {
      "cell_type": "markdown",
      "source": [
        "What will be the result of the following comparison?"
      ],
      "metadata": {
        "id": "42zLE3Tq2Cnn"
      }
    },
    {
      "cell_type": "code",
      "source": [
        "print(5==5.0)"
      ],
      "metadata": {
        "colab": {
          "base_uri": "https://localhost:8080/"
        },
        "id": "R2K_Njt82cUX",
        "outputId": "84f5b5b3-0792-4e0f-93c8-a32da83d426d"
      },
      "execution_count": null,
      "outputs": [
        {
          "output_type": "stream",
          "name": "stdout",
          "text": [
            "True\n"
          ]
        }
      ]
    },
    {
      "cell_type": "markdown",
      "source": [
        "What is the output of the following code?"
      ],
      "metadata": {
        "id": "frv5mKms2ifY"
      }
    },
    {
      "cell_type": "code",
      "source": [
        "x=(1,2,3)\n",
        "y=x+(4,)\n",
        "print(y)"
      ],
      "metadata": {
        "colab": {
          "base_uri": "https://localhost:8080/"
        },
        "id": "xWI005W82fhx",
        "outputId": "75966302-b63d-4917-e1c3-57305875b38e"
      },
      "execution_count": null,
      "outputs": [
        {
          "output_type": "stream",
          "name": "stdout",
          "text": [
            "(1, 2, 3, 4)\n"
          ]
        }
      ]
    },
    {
      "cell_type": "code",
      "source": [],
      "metadata": {
        "id": "0_mvvrNS2xvm"
      },
      "execution_count": null,
      "outputs": []
    }
  ]
}