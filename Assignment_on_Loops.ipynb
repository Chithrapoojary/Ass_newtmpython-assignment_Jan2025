{
  "nbformat": 4,
  "nbformat_minor": 0,
  "metadata": {
    "colab": {
      "provenance": []
    },
    "kernelspec": {
      "name": "python3",
      "display_name": "Python 3"
    },
    "language_info": {
      "name": "python"
    }
  },
  "cells": [
    {
      "cell_type": "markdown",
      "source": [
        "# Write a program which accepts month's name as input and display the number of days in the month as output"
      ],
      "metadata": {
        "id": "MdAkQQ_Y4wwG"
      }
    },
    {
      "cell_type": "code",
      "source": [
        "print(\"List of months: January, February, March, April, May, June, July, August, September, October, November, December\")\n",
        "month_name = input(\"Input the name of Month: \")\n",
        "\n",
        "if month_name == \"February\":\n",
        "    print(\"No. of days: 28/29 days\")\n",
        "elif month_name in (\"April\", \"June\", \"September\", \"November\"):\n",
        "    print(\"No. of days: 30 days\")\n",
        "elif month_name in (\"January\", \"March\", \"May\", \"July\", \"August\", \"October\", \"December\"):\n",
        "    print(\"No. of days: 31 days\")\n",
        "else:\n",
        "    print(\"Wrong month name\")\n"
      ],
      "metadata": {
        "id": "5CHcmXp1CKEa",
        "colab": {
          "base_uri": "https://localhost:8080/"
        },
        "outputId": "1b4cdae0-0147-4786-a6a4-b8c8bf35a5c4"
      },
      "execution_count": null,
      "outputs": [
        {
          "output_type": "stream",
          "name": "stdout",
          "text": [
            "List of months: January, February, March, April, May, June, July, August, September, October, November, December\n",
            "Input the name of Month: April\n",
            "No. of days: 30 days\n"
          ]
        }
      ]
    },
    {
      "cell_type": "markdown",
      "source": [
        "Take any word as input from the user and count the number of vowels in the word"
      ],
      "metadata": {
        "id": "Q8cCBC198J6M"
      }
    },
    {
      "cell_type": "code",
      "source": [
        "word=input(\"Enter a word : \")\n",
        "\n",
        "vowels=\"aeiouAEIOU\"\n",
        "\n",
        "vowel_count=sum(1 for char in word if char in vowels)\n",
        "\n",
        "\n",
        "print(f\"The number of vowels in '{word}' is: {vowel_count}\")"
      ],
      "metadata": {
        "id": "fCmmgoZfCKga",
        "colab": {
          "base_uri": "https://localhost:8080/"
        },
        "outputId": "5ee67739-48ad-4ec4-8420-8afa513f17a9"
      },
      "execution_count": null,
      "outputs": [
        {
          "output_type": "stream",
          "name": "stdout",
          "text": [
            "Enter a word : ramya\n",
            "The number of vowels in 'ramya' is: 2\n"
          ]
        }
      ]
    },
    {
      "cell_type": "code",
      "source": [
        "word= input(\"Enter a word: \")\n",
        "\n",
        "vowels=\"aeiouAEIOU\"\n",
        "\n",
        "count=0\n",
        "\n",
        "for char in word:\n",
        "  if char in vowels:\n",
        "    count += 1\n",
        "\n",
        "print(f\"The number of vowels in '{word}' is: {count}\")"
      ],
      "metadata": {
        "colab": {
          "base_uri": "https://localhost:8080/"
        },
        "id": "kWudY2E5iQdr",
        "outputId": "fea9a8c2-676f-4880-bcd3-20446b2a2183"
      },
      "execution_count": null,
      "outputs": [
        {
          "output_type": "stream",
          "name": "stdout",
          "text": [
            "Enter a word: raghav\n",
            "The number of vowels in 'raghav' is: 2\n"
          ]
        }
      ]
    },
    {
      "cell_type": "markdown",
      "source": [
        "Write a program to separate even and odd numbers in two distinct lists from a list of numbers of your choice"
      ],
      "metadata": {
        "id": "1ugWwVXd49OI"
      }
    },
    {
      "cell_type": "code",
      "source": [
        "my_list=[1,2,3,4,5,7,8,9,10]\n",
        "even_numbers=[ num for num in my_list if num %2==0]\n",
        "odd_numbers=[num for num in my_list if num%2!=0]\n",
        "\n",
        "print(\"Even num:\",even_numbers)\n",
        "print(\"Odd num:\",odd_numbers)"
      ],
      "metadata": {
        "id": "p0MPJzU6CK6f",
        "colab": {
          "base_uri": "https://localhost:8080/"
        },
        "outputId": "8f0fb6a7-9505-49bf-c70b-b809b9b006b4"
      },
      "execution_count": null,
      "outputs": [
        {
          "output_type": "stream",
          "name": "stdout",
          "text": [
            "Even num: [2, 4, 8, 10]\n",
            "Odd num: [1, 3, 5, 7, 9]\n"
          ]
        }
      ]
    },
    {
      "cell_type": "markdown",
      "source": [
        "Write a program that appends datatype of elements from a list to a separate list"
      ],
      "metadata": {
        "id": "uaqnGrhs49Mf"
      }
    },
    {
      "cell_type": "code",
      "source": [
        "elements=[42,\"hello\",3.14,True,False,[1,2,3],{\"key\":\"value\"}]\n",
        "data_types= []\n",
        "\n",
        "for item in elements:\n",
        "  data_types.append(type(item).__name__)\n",
        "\n",
        "  print(\"original list:\",elements)\n",
        "  print(\"datatypes:\",data_types)"
      ],
      "metadata": {
        "id": "ypNro7WSCLX7",
        "colab": {
          "base_uri": "https://localhost:8080/"
        },
        "outputId": "d44baf58-1e93-4bd4-c444-e5cf80d37884"
      },
      "execution_count": null,
      "outputs": [
        {
          "output_type": "stream",
          "name": "stdout",
          "text": [
            "original list: [42, 'hello', 3.14, True, False, [1, 2, 3], {'key': 'value'}]\n",
            "datatypes: ['int']\n",
            "original list: [42, 'hello', 3.14, True, False, [1, 2, 3], {'key': 'value'}]\n",
            "datatypes: ['int', 'str']\n",
            "original list: [42, 'hello', 3.14, True, False, [1, 2, 3], {'key': 'value'}]\n",
            "datatypes: ['int', 'str', 'float']\n",
            "original list: [42, 'hello', 3.14, True, False, [1, 2, 3], {'key': 'value'}]\n",
            "datatypes: ['int', 'str', 'float', 'bool']\n",
            "original list: [42, 'hello', 3.14, True, False, [1, 2, 3], {'key': 'value'}]\n",
            "datatypes: ['int', 'str', 'float', 'bool', 'bool']\n",
            "original list: [42, 'hello', 3.14, True, False, [1, 2, 3], {'key': 'value'}]\n",
            "datatypes: ['int', 'str', 'float', 'bool', 'bool', 'list']\n",
            "original list: [42, 'hello', 3.14, True, False, [1, 2, 3], {'key': 'value'}]\n",
            "datatypes: ['int', 'str', 'float', 'bool', 'bool', 'list', 'dict']\n"
          ]
        }
      ]
    },
    {
      "cell_type": "markdown",
      "source": [
        "### Write a program to display only those numbers from a list that satisfies the following conditions:\n",
        "\n",
        "1. The number must be divisible by 7\n",
        "\n",
        "2. If the number is 140 then skip it and move to the next number in the list\n",
        "\n",
        "3. If the number in the list is greater than 630 then stop the loop"
      ],
      "metadata": {
        "id": "ddMu0Pj1643Y"
      }
    },
    {
      "cell_type": "code",
      "source": [
        "numbers=[49,70,140,210,350,630,700,77,98]\n",
        "\n",
        "for num in numbers:\n",
        "  if num > 630:\n",
        "    break\n",
        "\n",
        "  if num == 140:\n",
        "    continue\n",
        "\n",
        "  if num % 7 == 0:\n",
        "      print(num)"
      ],
      "metadata": {
        "id": "230Qc9UHTK5-",
        "colab": {
          "base_uri": "https://localhost:8080/"
        },
        "outputId": "54471374-fdd5-458c-e8ec-963a4e6075de"
      },
      "execution_count": 24,
      "outputs": [
        {
          "output_type": "stream",
          "name": "stdout",
          "text": [
            "49\n",
            "70\n",
            "210\n",
            "350\n",
            "630\n"
          ]
        }
      ]
    },
    {
      "cell_type": "code",
      "source": [],
      "metadata": {
        "id": "qk5zrJuk0Hlm"
      },
      "execution_count": null,
      "outputs": []
    }
  ]
}