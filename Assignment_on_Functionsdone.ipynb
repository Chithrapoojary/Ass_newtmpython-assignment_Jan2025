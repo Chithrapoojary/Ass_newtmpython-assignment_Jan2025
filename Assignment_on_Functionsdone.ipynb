{
  "cells": [
    {
      "cell_type": "markdown",
      "metadata": {
        "id": "SA0zwy1HTiK-"
      },
      "source": [
        "Define a function that accepts a number and returns whether the number is even or odd."
      ]
    },
    {
      "cell_type": "code",
      "execution_count": null,
      "metadata": {
        "id": "A9MMRVWIIgYu"
      },
      "outputs": [],
      "source": [
        "def num(*args):\n",
        "    for num in args:\n",
        "      if num%2==0:\n",
        "        print(\"Num is even\")\n",
        "\n",
        "      else:\n",
        "        print(\"Num is odd\")"
      ]
    },
    {
      "cell_type": "code",
      "execution_count": null,
      "metadata": {
        "colab": {
          "base_uri": "https://localhost:8080/"
        },
        "id": "ogEZP1b7IiNS",
        "outputId": "d7a41d1b-e045-48c8-e76f-a06a465c7fd7"
      },
      "outputs": [
        {
          "name": "stdout",
          "output_type": "stream",
          "text": [
            "Num is odd\n"
          ]
        }
      ],
      "source": [
        "num(1)"
      ]
    },
    {
      "cell_type": "code",
      "execution_count": null,
      "metadata": {
        "colab": {
          "base_uri": "https://localhost:8080/"
        },
        "id": "7ZhPvB52Ikso",
        "outputId": "a38dfa09-ff43-4f86-c8e3-bcab533059dc"
      },
      "outputs": [
        {
          "name": "stdout",
          "output_type": "stream",
          "text": [
            "Num is even\n"
          ]
        }
      ],
      "source": [
        "num(4)"
      ]
    },
    {
      "cell_type": "markdown",
      "metadata": {
        "id": "eFB9qeBSTxRd"
      },
      "source": [
        "Define a function to create and print a list where the values are square of numbers between 1 and 30 (both included)."
      ]
    },
    {
      "cell_type": "code",
      "source": [
        "def create_square_list():\n",
        "  square_list=[]\n",
        "  for num in range(1,31):\n",
        "    square_list.append(num**2)\n",
        "  print(\"List of squares:\", square_list)\n",
        "\n",
        "\n",
        "create_square_list()"
      ],
      "metadata": {
        "colab": {
          "base_uri": "https://localhost:8080/"
        },
        "id": "0xOHrRaH27zv",
        "outputId": "711cf41b-9c14-4910-bb2f-e9ff6061bc2c"
      },
      "execution_count": null,
      "outputs": [
        {
          "output_type": "stream",
          "name": "stdout",
          "text": [
            "List of squares: [1, 4, 9, 16, 25, 36, 49, 64, 81, 100, 121, 144, 169, 196, 225, 256, 289, 324, 361, 400, 441, 484, 529, 576, 625, 676, 729, 784, 841, 900]\n"
          ]
        }
      ]
    },
    {
      "cell_type": "markdown",
      "metadata": {
        "id": "WPKsEW0dUIZF"
      },
      "source": [
        "Define a function, shut_down, that takes one parameter. Then, if the shut_down function receives a value equal to \"yes\", it should print \"Shutting down\". Alternatively, if vallue is equal to \"no\", then the function should print \"Shutdown aborted\". Finally, if shut_down gets anything other than those inputs, the function should print \"Sorry\"."
      ]
    },
    {
      "cell_type": "code",
      "source": [
        "def shut_down(response):\n",
        "    if response == \"yes\":\n",
        "        print(\"Shutting down\")\n",
        "    elif response == \"no\":\n",
        "        print(\"Shutdown aborted\")\n",
        "    else:\n",
        "        print(\"Sorry\")\n",
        "\n",
        "shut_down(\"yes\")\n",
        "shut_down(\"no\")\n",
        "shut_down(\"maybe\")"
      ],
      "metadata": {
        "colab": {
          "base_uri": "https://localhost:8080/"
        },
        "id": "e39shePg4AVL",
        "outputId": "56e280af-edca-4295-de21-da38f592372f"
      },
      "execution_count": null,
      "outputs": [
        {
          "output_type": "stream",
          "name": "stdout",
          "text": [
            "Shutting down\n",
            "Shutdown aborted\n",
            "Sorry\n"
          ]
        }
      ]
    },
    {
      "cell_type": "markdown",
      "metadata": {
        "id": "KosfqTW8Ur_1"
      },
      "source": [
        "\n",
        "\n",
        "Define a function called \"by_three\" that takes a parameter called number. If that number is divisible by 3, \"by_three\" should print the cube of the number. Otherwise, by_three should print False."
      ]
    },
    {
      "cell_type": "code",
      "execution_count": null,
      "metadata": {
        "id": "ma_rcX6sp4nW",
        "colab": {
          "base_uri": "https://localhost:8080/"
        },
        "outputId": "fb4ad1c8-9d3b-4a03-c098-00d0039f7ce7"
      },
      "outputs": [
        {
          "output_type": "stream",
          "name": "stdout",
          "text": [
            "729\n",
            "False\n"
          ]
        }
      ],
      "source": [
        "def by_three(number):\n",
        "    if number % 3 == 0:\n",
        "        print(number ** 3)\n",
        "    else:\n",
        "        print(False)\n",
        "\n",
        "by_three(9)\n",
        "by_three(10)\n"
      ]
    },
    {
      "cell_type": "markdown",
      "metadata": {
        "id": "EWbQXeU5WpdZ"
      },
      "source": [
        "Define a function that takes a list and prints a new list with no duplicate elements given in the first list."
      ]
    },
    {
      "cell_type": "code",
      "source": [
        "def remove_duplicates(input_list):\n",
        "    unique_list = []\n",
        "    for item in input_list:\n",
        "        if item not in unique_list:\n",
        "            unique_list.append(item)\n",
        "    print(unique_list)"
      ],
      "metadata": {
        "id": "sgkK2Ub37Yby"
      },
      "execution_count": null,
      "outputs": []
    },
    {
      "cell_type": "code",
      "source": [],
      "metadata": {
        "id": "CcwWUR727Zjb"
      },
      "execution_count": null,
      "outputs": []
    }
  ],
  "metadata": {
    "colab": {
      "provenance": []
    },
    "kernelspec": {
      "display_name": "Python 3",
      "name": "python3"
    },
    "language_info": {
      "name": "python"
    }
  },
  "nbformat": 4,
  "nbformat_minor": 0
}